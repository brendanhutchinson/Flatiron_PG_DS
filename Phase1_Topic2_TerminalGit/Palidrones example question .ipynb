{
 "cells": [
  {
   "cell_type": "code",
   "execution_count": 1,
   "id": "108f822d",
   "metadata": {},
   "outputs": [],
   "source": [
    "words = ['stacked','bored' ,'kayak', 'deified',\n",
    " 'rotator' ,'repaper', 'deed', 'peep' ,'wow' ,'noon',\n",
    " 'fried', 'turkeys', 'batton', 'tiger','lions', 'bears']"
   ]
  },
  {
   "cell_type": "code",
   "execution_count": 2,
   "id": "2e3a2851",
   "metadata": {},
   "outputs": [],
   "source": [
    "# Filter the list of words for Palidrones "
   ]
  },
  {
   "cell_type": "code",
   "execution_count": 3,
   "id": "72365b33",
   "metadata": {},
   "outputs": [],
   "source": [
    "## your code goes here \n",
    "\n",
    "\n",
    "\n",
    "\n",
    "\n",
    "\n",
    "\n",
    "\n",
    "\n",
    "\n",
    "\n",
    "\n",
    "\n",
    "\n",
    "\n",
    "\n",
    "\n",
    "\n",
    "\n",
    "\n",
    "\n",
    "\n"
   ]
  },
  {
   "cell_type": "code",
   "execution_count": 4,
   "id": "bd13f4ba",
   "metadata": {},
   "outputs": [
    {
     "data": {
      "text/plain": [
       "['kayak', 'deified', 'rotator', 'repaper', 'deed', 'peep', 'wow', 'noon']"
      ]
     },
     "execution_count": 4,
     "metadata": {},
     "output_type": "execute_result"
    }
   ],
   "source": [
    "[word for word in words if word == word[::-1]]"
   ]
  },
  {
   "cell_type": "code",
   "execution_count": 5,
   "id": "cda2f79b",
   "metadata": {},
   "outputs": [
    {
     "name": "stdout",
     "output_type": "stream",
     "text": [
      "['kayak', 'deified', 'rotator', 'repaper', 'deed', 'peep', 'wow', 'noon']\n"
     ]
    }
   ],
   "source": [
    "palidrones = []\n",
    "\n",
    "for word in words: \n",
    "    if word == word[::-1]:\n",
    "        palidrones.append(word)\n",
    "        \n",
    "\n",
    "print(palidrones)"
   ]
  },
  {
   "cell_type": "code",
   "execution_count": null,
   "id": "867e8116",
   "metadata": {},
   "outputs": [],
   "source": []
  },
  {
   "cell_type": "code",
   "execution_count": null,
   "id": "7fb0381c",
   "metadata": {},
   "outputs": [],
   "source": []
  },
  {
   "cell_type": "code",
   "execution_count": 6,
   "id": "6e288de9",
   "metadata": {},
   "outputs": [],
   "source": [
    "## classify each word into palidrone and non palidrone keys "
   ]
  },
  {
   "cell_type": "code",
   "execution_count": 7,
   "id": "2656d6fb",
   "metadata": {},
   "outputs": [],
   "source": [
    "## your code goes here "
   ]
  },
  {
   "cell_type": "code",
   "execution_count": null,
   "id": "7fe9fa06",
   "metadata": {},
   "outputs": [],
   "source": []
  },
  {
   "cell_type": "code",
   "execution_count": null,
   "id": "c3bd1297",
   "metadata": {},
   "outputs": [],
   "source": []
  },
  {
   "cell_type": "code",
   "execution_count": null,
   "id": "b50cc1da",
   "metadata": {},
   "outputs": [],
   "source": []
  },
  {
   "cell_type": "code",
   "execution_count": 8,
   "id": "a2ecf9ec",
   "metadata": {},
   "outputs": [],
   "source": [
    "wordtypes = {'palidrones':[], 'nonpalidrones':[]}\n",
    "\n",
    "for word in words: \n",
    "    if word == word[::-1]:\n",
    "        wordtypes['palidrones'].append(word)\n",
    "    else: \n",
    "        wordtypes['nonpalidrones'].append(word)"
   ]
  },
  {
   "cell_type": "code",
   "execution_count": null,
   "id": "77b6cf4f",
   "metadata": {},
   "outputs": [],
   "source": []
  },
  {
   "cell_type": "code",
   "execution_count": null,
   "id": "d7d28605",
   "metadata": {},
   "outputs": [],
   "source": []
  }
 ],
 "metadata": {
  "kernelspec": {
   "display_name": "Python 3 (ipykernel)",
   "language": "python",
   "name": "python3"
  },
  "language_info": {
   "codemirror_mode": {
    "name": "ipython",
    "version": 3
   },
   "file_extension": ".py",
   "mimetype": "text/x-python",
   "name": "python",
   "nbconvert_exporter": "python",
   "pygments_lexer": "ipython3",
   "version": "3.9.7"
  }
 },
 "nbformat": 4,
 "nbformat_minor": 5
}
